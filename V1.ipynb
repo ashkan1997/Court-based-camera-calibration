{
 "cells": [
  {
   "attachments": {},
   "cell_type": "markdown",
   "metadata": {},
   "source": [
    "# initialize "
   ]
  },
  {
   "cell_type": "code",
   "execution_count": 10,
   "metadata": {},
   "outputs": [],
   "source": [
    "import cv2\n",
    "import numpy as np"
   ]
  },
  {
   "cell_type": "code",
   "execution_count": 11,
   "metadata": {},
   "outputs": [
    {
     "name": "stderr",
     "output_type": "stream",
     "text": [
      "[ WARN:0@1414.305] global /private/var/folders/nz/j6p8yfhx1mv_0grj5xl4650h0000gp/T/abs_d9lyif19nl/croot/opencv-suite_1676472756314/work/modules/videoio/src/cap_gstreamer.cpp (2386) handleMessage OpenCV | GStreamer warning: your GStreamer installation is missing a required plugin\n",
      "[ WARN:0@1414.305] global /private/var/folders/nz/j6p8yfhx1mv_0grj5xl4650h0000gp/T/abs_d9lyif19nl/croot/opencv-suite_1676472756314/work/modules/videoio/src/cap_gstreamer.cpp (2402) handleMessage OpenCV | GStreamer warning: Embedded video playback halted; module uridecodebin2 reported: Your GStreamer installation is missing a plug-in.\n",
      "[ WARN:0@1414.306] global /private/var/folders/nz/j6p8yfhx1mv_0grj5xl4650h0000gp/T/abs_d9lyif19nl/croot/opencv-suite_1676472756314/work/modules/videoio/src/cap_gstreamer.cpp (1356) open OpenCV | GStreamer warning: unable to start pipeline\n",
      "[ WARN:0@1414.306] global /private/var/folders/nz/j6p8yfhx1mv_0grj5xl4650h0000gp/T/abs_d9lyif19nl/croot/opencv-suite_1676472756314/work/modules/videoio/src/cap_gstreamer.cpp (862) isPipelinePlaying OpenCV | GStreamer warning: GStreamer: pipeline have not been created\n"
     ]
    }
   ],
   "source": [
    "# Court dimensions in meters\n",
    "court_width = 10.97\n",
    "court_length = 23.77\n",
    "\n",
    "# Load video\n",
    "video_path = 'video/755B5535-4757-479D-97D7-189B7EBB19E9.mov'\n",
    "cap = cv2.VideoCapture(video_path)"
   ]
  },
  {
   "attachments": {},
   "cell_type": "markdown",
   "metadata": {},
   "source": [
    "# corner selector"
   ]
  },
  {
   "cell_type": "code",
   "execution_count": 3,
   "metadata": {},
   "outputs": [
    {
     "name": "stdout",
     "output_type": "stream",
     "text": [
      "Select court corners in the order: top left, top right, bottom right, bottom left.\n",
      "Press 'Esc' key to exit after selecting the corners.\n"
     ]
    },
    {
     "ename": "AttributeError",
     "evalue": "'NoneType' object has no attribute 'shape'",
     "output_type": "error",
     "traceback": [
      "\u001b[0;31m---------------------------------------------------------------------------\u001b[0m",
      "\u001b[0;31mAttributeError\u001b[0m                            Traceback (most recent call last)",
      "Cell \u001b[0;32mIn[3], line 48\u001b[0m\n\u001b[1;32m     45\u001b[0m         \u001b[39mbreak\u001b[39;00m\n\u001b[1;32m     47\u001b[0m \u001b[39m# Calculate court coordinates\u001b[39;00m\n\u001b[0;32m---> 48\u001b[0m court_coordinates \u001b[39m=\u001b[39m calculate_court_coordinates(frame, corners)\n\u001b[1;32m     50\u001b[0m \u001b[39m# Print court coordinates\u001b[39;00m\n\u001b[1;32m     51\u001b[0m \u001b[39mprint\u001b[39m(\u001b[39m\"\u001b[39m\u001b[39mCourt Coordinates:\u001b[39m\u001b[39m\"\u001b[39m)\n",
      "Cell \u001b[0;32mIn[3], line 3\u001b[0m, in \u001b[0;36mcalculate_court_coordinates\u001b[0;34m(frame, corners)\u001b[0m\n\u001b[1;32m      2\u001b[0m \u001b[39mdef\u001b[39;00m \u001b[39mcalculate_court_coordinates\u001b[39m(frame, corners):\n\u001b[0;32m----> 3\u001b[0m     height, width \u001b[39m=\u001b[39m frame\u001b[39m.\u001b[39;49mshape[:\u001b[39m2\u001b[39m]\n\u001b[1;32m      5\u001b[0m     \u001b[39m# Define court corners in pixel coordinates\u001b[39;00m\n\u001b[1;32m      6\u001b[0m     court_corners \u001b[39m=\u001b[39m np\u001b[39m.\u001b[39marray([[\u001b[39m0\u001b[39m, \u001b[39m0\u001b[39m], [width, \u001b[39m0\u001b[39m], [width, height], [\u001b[39m0\u001b[39m, height]], dtype\u001b[39m=\u001b[39mnp\u001b[39m.\u001b[39mfloat32)\n",
      "\u001b[0;31mAttributeError\u001b[0m: 'NoneType' object has no attribute 'shape'"
     ]
    }
   ],
   "source": [
    "\n",
    "# Function to calculate court coordinates\n",
    "def calculate_court_coordinates(frame, corners):\n",
    "    height, width = frame.shape[:2]\n",
    "\n",
    "    # Define court corners in pixel coordinates\n",
    "    court_corners = np.array([[0, 0], [width, 0], [width, height], [0, height]], dtype=np.float32)\n",
    "\n",
    "    # Compute perspective transform matrix\n",
    "    M, _ = cv2.findHomography(corners, court_corners)\n",
    "\n",
    "    # Transform court dimensions to pixel coordinates\n",
    "    court_pixel_width = int(width * court_width / court_length)\n",
    "    court_pixel_height = int(height * court_length / court_width)\n",
    "\n",
    "    # Warp court corners to get court coordinates\n",
    "    court_coordinates = cv2.perspectiveTransform(np.array([[[0, 0]], [[court_pixel_width, 0]],\n",
    "                                                           [[court_pixel_width, court_pixel_height]],\n",
    "                                                           [[0, court_pixel_height]]], dtype=np.float32), M)\n",
    "\n",
    "    return court_coordinates.squeeze()\n",
    "\n",
    "# Select court corners\n",
    "def select_court_corners(event, x, y, flags, param):\n",
    "    if event == cv2.EVENT_LBUTTONUP and len(corners) < 4:\n",
    "        cv2.circle(frame, (x, y), 5, (0, 0, 255), -1)\n",
    "        corners.append([x, y])\n",
    "\n",
    "# Initialize court corners\n",
    "corners = []\n",
    "\n",
    "# Prompt user to select court corners\n",
    "print(\"Select court corners in the order: top left, top right, bottom right, bottom left.\")\n",
    "print(\"Press 'Esc' key to exit after selecting the corners.\")\n",
    "\n",
    "while True:\n",
    "    ret, frame = cap.read()\n",
    "\n",
    "    if not ret:\n",
    "        break\n",
    "\n",
    "    cv2.imshow(\"Select Court Corners\", frame)\n",
    "    cv2.setMouseCallback(\"Select Court Corners\", select_court_corners)\n",
    "\n",
    "    if cv2.waitKey(1) == 27 or len(corners) == 4:\n",
    "        break\n",
    "\n",
    "# Calculate court coordinates\n",
    "court_coordinates = calculate_court_coordinates(frame, corners)\n",
    "\n",
    "# Print court coordinates\n",
    "print(\"Court Coordinates:\")\n",
    "for coordinate in court_coordinates:\n",
    "    print(coordinate)\n",
    "\n",
    "# Release video capture and close windows\n",
    "cap.release()\n",
    "cv2.destroyAllWindows()\n"
   ]
  },
  {
   "attachments": {},
   "cell_type": "markdown",
   "metadata": {},
   "source": [
    "# manually corners coordinates"
   ]
  },
  {
   "cell_type": "code",
   "execution_count": 27,
   "metadata": {},
   "outputs": [
    {
     "name": "stdout",
     "output_type": "stream",
     "text": [
      "Court Coordinates:\n",
      "[-124.28863  278.82315]\n",
      "[520.255   278.82315]\n",
      "[595.03284 529.4526 ]\n",
      "[752.6714 529.4526]\n"
     ]
    }
   ],
   "source": [
    "# Function to calculate court coordinates\n",
    "def calculate_court_coordinates(frame, corners):\n",
    "    height, width = frame.shape[:2]\n",
    "\n",
    "    # Define court corners in pixel coordinates\n",
    "    court_corners = np.array([[0, 0], [width, 0], [width, height], [0, height]], dtype=np.float32)\n",
    "\n",
    "    # Compute perspective transform matrix\n",
    "    M, _ = cv2.findHomography(corners, court_corners , cv2.RANSAC, 5.0)\n",
    "\n",
    "    # Transform court dimensions to pixel coordinates\n",
    "    court_pixel_width = int(width * court_width / court_length)\n",
    "    court_pixel_height = int(height * court_length / court_width)\n",
    "\n",
    "    # Warp court corners to get court coordinates\n",
    "    court_coordinates = cv2.perspectiveTransform(np.array([[[0, 0]], [[court_pixel_width, 0]],\n",
    "      [[court_pixel_width,court_pixel_height]],\n",
    "      [[0, court_pixel_height]]], dtype=np.float32), M)\n",
    "\n",
    "    return court_coordinates.squeeze()\n",
    "\n",
    "# Manual court corner entry\n",
    "def enter_court_corners():\n",
    "    corners = []\n",
    "    print(\"Enter court corners in the order: top left, top right, bottom right, bottom left.\")\n",
    "    print(\"Enter the coordinates as 'x,y' and press Enter.\")\n",
    "\n",
    "    for i in range(4):\n",
    "        while True:\n",
    "            coordinates = input(f\"Enter corner {i+1} coordinates: \")\n",
    "            try:\n",
    "                x, y = map(int, coordinates.split(\",\"))\n",
    "                corners.append([x, y])\n",
    "                break\n",
    "            except ValueError:\n",
    "                print(\"Invalid input. Please enter the coordinates as 'x,y'.\")\n",
    "\n",
    "    return corners\n",
    "\n",
    "# Manual entry of court corners\n",
    "# corners = enter_court_corners()\n",
    "corners = [[380,178] , [778,178] , [185,564] , [982,564]]\n",
    "\n",
    "# Calculate court coordinates\n",
    "ret, frame = cap.read()\n",
    "court_coordinates = calculate_court_coordinates(frame, np.float32(corners))\n",
    "\n",
    "# Print court coordinates\n",
    "print(\"Court Coordinates:\")\n",
    "for coordinate in court_coordinates:\n",
    "    print(coordinate)\n"
   ]
  },
  {
   "cell_type": "code",
   "execution_count": 28,
   "metadata": {},
   "outputs": [],
   "source": [
    "# Draw lines on the court\n",
    "court_lines = [(tuple(court_coordinates[0].astype(int)), tuple(court_coordinates[1].astype(int))),  # Top line\n",
    "               (tuple(court_coordinates[1].astype(int)), tuple(court_coordinates[2].astype(int))),  # Right line\n",
    "               (tuple(court_coordinates[2].astype(int)), tuple(court_coordinates[3].astype(int))),  # Bottom line\n",
    "               (tuple(court_coordinates[3].astype(int)), tuple(court_coordinates[0].astype(int)))]  # Left line\n",
    "\n",
    "\n",
    "# Draw court lines on the video frames\n",
    "while ret:\n",
    "    for line in court_lines:\n",
    "        cv2.line(frame, line[0], line[1], (0, 255, 0), 2)\n",
    "\n",
    "    cv2.imshow(\"Video with Court Lines\", frame)\n",
    "    if cv2.waitKey(1) == 27:\n",
    "        break\n",
    "\n",
    "    ret, frame = cap.read()\n",
    "\n",
    "# Release video capture\n",
    "cap.release()\n",
    "cv2.destroyAllWindows()"
   ]
  },
  {
   "cell_type": "code",
   "execution_count": 24,
   "metadata": {},
   "outputs": [
    {
     "data": {
      "text/plain": [
       "(-124.28863, 278.82315)"
      ]
     },
     "execution_count": 24,
     "metadata": {},
     "output_type": "execute_result"
    }
   ],
   "source": [
    "court_lines[0][0]"
   ]
  },
  {
   "cell_type": "code",
   "execution_count": 29,
   "metadata": {},
   "outputs": [
    {
     "ename": "",
     "evalue": "",
     "output_type": "error",
     "traceback": [
      "\u001b[1;31mThe Kernel crashed while executing code in the the current cell or a previous cell. Please review the code in the cell(s) to identify a possible cause of the failure. Click <a href='https://aka.ms/vscodeJupyterKernelCrash'>here</a> for more info. View Jupyter <a href='command:jupyter.viewOutput'>log</a> for further details."
     ]
    }
   ],
   "source": [
    "cap.release()\n",
    "cv2.destroyAllWindows()"
   ]
  },
  {
   "attachments": {},
   "cell_type": "markdown",
   "metadata": {},
   "source": [
    "[[380,178] , [778,178] , [185,564] , [982,564]]"
   ]
  }
 ],
 "metadata": {
  "kernelspec": {
   "display_name": "Py3",
   "language": "python",
   "name": "python3"
  },
  "language_info": {
   "codemirror_mode": {
    "name": "ipython",
    "version": 3
   },
   "file_extension": ".py",
   "mimetype": "text/x-python",
   "name": "python",
   "nbconvert_exporter": "python",
   "pygments_lexer": "ipython3",
   "version": "3.10.8"
  },
  "orig_nbformat": 4
 },
 "nbformat": 4,
 "nbformat_minor": 2
}
