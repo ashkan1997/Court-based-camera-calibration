{
 "cells": [
  {
   "cell_type": "code",
   "execution_count": 3,
   "metadata": {},
   "outputs": [
    {
     "name": "stderr",
     "output_type": "stream",
     "text": [
      "[ WARN:0@9963.854] global /private/var/folders/nz/j6p8yfhx1mv_0grj5xl4650h0000gp/T/abs_d9lyif19nl/croot/opencv-suite_1676472756314/work/modules/videoio/src/cap_gstreamer.cpp (2386) handleMessage OpenCV | GStreamer warning: your GStreamer installation is missing a required plugin\n",
      "[ WARN:0@9963.854] global /private/var/folders/nz/j6p8yfhx1mv_0grj5xl4650h0000gp/T/abs_d9lyif19nl/croot/opencv-suite_1676472756314/work/modules/videoio/src/cap_gstreamer.cpp (2402) handleMessage OpenCV | GStreamer warning: Embedded video playback halted; module uridecodebin2 reported: Your GStreamer installation is missing a plug-in.\n",
      "[ WARN:0@9963.854] global /private/var/folders/nz/j6p8yfhx1mv_0grj5xl4650h0000gp/T/abs_d9lyif19nl/croot/opencv-suite_1676472756314/work/modules/videoio/src/cap_gstreamer.cpp (1356) open OpenCV | GStreamer warning: unable to start pipeline\n",
      "[ WARN:0@9963.854] global /private/var/folders/nz/j6p8yfhx1mv_0grj5xl4650h0000gp/T/abs_d9lyif19nl/croot/opencv-suite_1676472756314/work/modules/videoio/src/cap_gstreamer.cpp (862) isPipelinePlaying OpenCV | GStreamer warning: GStreamer: pipeline have not been created\n"
     ]
    }
   ],
   "source": [
    "import cv2\n",
    "import numpy as np\n",
    "\n",
    "# Court dimensions in meters\n",
    "court_width = 10.97\n",
    "court_length = 23.77\n",
    "\n",
    "# Load video\n",
    "video_path = 'video/crop - 1.mov'\n",
    "cap = cv2.VideoCapture(video_path)\n"
   ]
  },
  {
   "attachments": {},
   "cell_type": "markdown",
   "metadata": {},
   "source": [
    "# V1"
   ]
  },
  {
   "cell_type": "code",
   "execution_count": 2,
   "metadata": {},
   "outputs": [],
   "source": [
    "\n",
    "# Define color range for line detection (blue tennis court with white lines)\n",
    "lower_color = np.array([96,106,169], dtype=np.uint8)\n",
    "upper_color = np.array([171, 152, 152], dtype=np.uint8)\n",
    "\n",
    "# Function to calculate court coordinates\n",
    "def calculate_court_coordinates(frame, lines):\n",
    "    height, width = frame.shape[:2]\n",
    "\n",
    "    # Transform court dimensions to pixel coordinates\n",
    "    court_pixel_width = int(width * court_width / court_length)\n",
    "    court_pixel_height = int(height * court_length / court_width)\n",
    "\n",
    "    # Warp court corners to get court coordinates\n",
    "    court_coordinates = np.array([[0, 0], [court_pixel_width, 0],\n",
    "                                  [court_pixel_width, court_pixel_height],\n",
    "                                  [0, court_pixel_height]], dtype=np.float32)\n",
    "\n",
    "    return court_coordinates.squeeze()\n",
    "\n",
    "# Detect court lines in the video frames\n",
    "while True:\n",
    "    # Read frame\n",
    "    ret, frame = cap.read()\n",
    "    if not ret:\n",
    "        break\n",
    "\n",
    "    # Preprocess the frame\n",
    "    hsv = cv2.cvtColor(frame, cv2.COLOR_BGR2HSV)\n",
    "    mask = cv2.inRange(hsv, lower_color, upper_color)\n",
    "\n",
    "    # Apply morphological operations to enhance line detection\n",
    "    kernel = cv2.getStructuringElement(cv2.MORPH_RECT, (3, 3))\n",
    "    mask = cv2.morphologyEx(mask, cv2.MORPH_CLOSE, kernel)\n",
    "\n",
    "    # Detect lines using Hough transform\n",
    "    lines = cv2.HoughLinesP(mask, rho=1, theta=np.pi/180, threshold=50, minLineLength=50, maxLineGap=10)\n",
    "\n",
    "    if lines is not None:\n",
    "        # Filter and draw the court lines\n",
    "        court_lines = []\n",
    "        for line in lines:\n",
    "            x1, y1, x2, y2 = line[0]\n",
    "            if abs(y2 - y1) > abs(x2 - x1):\n",
    "                court_lines.append([(x1, y1), (x2, y2)])\n",
    "                cv2.line(frame, (x1, y1), (x2, y2), (0, 255, 0), 2)\n",
    "\n",
    "        # Calculate court coordinates\n",
    "        court_coordinates = calculate_court_coordinates(frame, court_lines)\n",
    "\n",
    "    # Display the frame with detected lines\n",
    "    cv2.imshow(\"Video with Court Lines\", frame)\n",
    "\n",
    "    if cv2.waitKey(1) == 27:\n",
    "        break\n",
    "\n",
    "# Release video capture\n",
    "cap.release()\n",
    "cv2.destroyAllWindows()\n"
   ]
  },
  {
   "cell_type": "code",
   "execution_count": null,
   "metadata": {},
   "outputs": [],
   "source": []
  },
  {
   "attachments": {},
   "cell_type": "markdown",
   "metadata": {},
   "source": [
    "# V2"
   ]
  },
  {
   "cell_type": "code",
   "execution_count": 4,
   "metadata": {},
   "outputs": [
    {
     "ename": "",
     "evalue": "",
     "output_type": "error",
     "traceback": [
      "\u001b[1;31mThe Kernel crashed while executing code in the the current cell or a previous cell. Please review the code in the cell(s) to identify a possible cause of the failure. Click <a href='https://aka.ms/vscodeJupyterKernelCrash'>here</a> for more info. View Jupyter <a href='command:jupyter.viewOutput'>log</a> for further details."
     ]
    }
   ],
   "source": [
    "# Define color range for line detection (tennis court blue and line colors)\n",
    "court_blue_lower = np.array([96, 106, 169], dtype=np.uint8)\n",
    "court_blue_upper = np.array([116, 126, 189], dtype=np.uint8)\n",
    "line_color_lower = np.array([151, 132, 132], dtype=np.uint8)\n",
    "line_color_upper = np.array([191, 172, 172], dtype=np.uint8)\n",
    "\n",
    "# Function to calculate court coordinates\n",
    "def calculate_court_coordinates(frame, lines):\n",
    "    height, width = frame.shape[:2]\n",
    "\n",
    "    # Transform court dimensions to pixel coordinates\n",
    "    court_pixel_width = int(width * court_width / court_length)\n",
    "    court_pixel_height = int(height * court_length / court_width)\n",
    "\n",
    "    # Warp court corners to get court coordinates\n",
    "    court_coordinates = np.array([[0, 0], [court_pixel_width, 0],\n",
    "                                  [court_pixel_width, court_pixel_height],\n",
    "                                  [0, court_pixel_height]], dtype=np.float32)\n",
    "\n",
    "    return court_coordinates.squeeze()\n",
    "\n",
    "# Detect court lines in the video frames\n",
    "while True:\n",
    "    # Read frame\n",
    "    ret, frame = cap.read()\n",
    "    if not ret:\n",
    "        break\n",
    "\n",
    "    # Preprocess the frame\n",
    "    mask_court = cv2.inRange(frame, court_blue_lower, court_blue_upper)\n",
    "    mask_lines = cv2.inRange(frame, line_color_lower, line_color_upper)\n",
    "    mask = cv2.bitwise_or(mask_court, mask_lines)\n",
    "\n",
    "    # Apply morphological operations to enhance line detection\n",
    "    kernel = cv2.getStructuringElement(cv2.MORPH_RECT, (3, 3))\n",
    "    mask = cv2.morphologyEx(mask, cv2.MORPH_CLOSE, kernel)\n",
    "\n",
    "    # Detect lines using Hough transform\n",
    "    lines = cv2.HoughLinesP(mask, rho=1, theta=np.pi/180, threshold=50, minLineLength=50, maxLineGap=10)\n",
    "\n",
    "    if lines is not None:\n",
    "        # Filter and draw the court lines\n",
    "        court_lines = []\n",
    "        for line in lines:\n",
    "            x1, y1, x2, y2 = line[0]\n",
    "            if abs(y2 - y1) > abs(x2 - x1):\n",
    "                court_lines.append([(x1, y1), (x2, y2)])\n",
    "                cv2.line(frame, (x1, y1), (x2, y2), (0, 255, 0), 2)\n",
    "\n",
    "        # Calculate court coordinates\n",
    "        court_coordinates = calculate_court_coordinates(frame, court_lines)\n",
    "\n",
    "    # Display the frame with detected lines\n",
    "    cv2.imshow(\"Video with Court Lines\", frame)\n",
    "\n",
    "    if cv2.waitKey(1) == 27:\n",
    "        break\n",
    "\n",
    "# Release video capture\n",
    "cap.release()\n",
    "cv2.destroyAllWindows()\n"
   ]
  },
  {
   "cell_type": "code",
   "execution_count": null,
   "metadata": {},
   "outputs": [],
   "source": []
  }
 ],
 "metadata": {
  "kernelspec": {
   "display_name": "Py3",
   "language": "python",
   "name": "python3"
  },
  "language_info": {
   "codemirror_mode": {
    "name": "ipython",
    "version": 3
   },
   "file_extension": ".py",
   "mimetype": "text/x-python",
   "name": "python",
   "nbconvert_exporter": "python",
   "pygments_lexer": "ipython3",
   "version": "3.10.8"
  },
  "orig_nbformat": 4
 },
 "nbformat": 4,
 "nbformat_minor": 2
}
